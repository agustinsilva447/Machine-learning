{
 "cells": [
  {
   "cell_type": "code",
   "execution_count": 1,
   "metadata": {},
   "outputs": [],
   "source": [
    "import numpy as np\n",
    "import matplotlib.pyplot as plt\n",
    "from tqdm import tqdm"
   ]
  },
  {
   "cell_type": "code",
   "execution_count": 2,
   "metadata": {},
   "outputs": [],
   "source": [
    "#N = np.array([500, 1000, 2000])\n",
    "N = np.array([500])\n",
    "m = np.zeros([10, N.shape[0]])"
   ]
  },
  {
   "cell_type": "code",
   "execution_count": 3,
   "metadata": {},
   "outputs": [
    {
     "name": "stdout",
     "output_type": "stream",
     "text": [
      "CANTIDAD DE NEURONAS: 500\n",
      "La iteración 0 convergió con 1 iteraciones. El <m> para 10 patrones es 1.0.\n",
      "La iteración 1 convergió con 1 iteraciones. El <m> para 20 patrones es 1.0.\n",
      "La iteración 2 convergió con 1 iteraciones. El <m> para 30 patrones es 1.0.\n",
      "La iteración 3 convergió con 2 iteraciones. El <m> para 40 patrones es 0.9996.\n",
      "La iteración 4 convergió con 4 iteraciones. El <m> para 50 patrones es 0.99824.\n",
      "La iteración 5 no convergió. El <m> para 60 patrones es 0.9862666666666666.\n",
      "La iteración 6 no convergió. El <m> para 70 patrones es 0.9409142857142857.\n",
      "La iteración 7 no convergió. El <m> para 80 patrones es 0.75995.\n",
      "La iteración 8 no convergió. El <m> para 90 patrones es 0.6998222222222222.\n",
      "La iteración 9 no convergió. El <m> para 100 patrones es 0.45684.\n"
     ]
    }
   ],
   "source": [
    "for nn, n in enumerate(N):\n",
    "    print(\"CANTIDAD DE NEURONAS:\", n)\n",
    "    p = np.arange(int(n/50), int(n/5)+1, int(n/50))\n",
    "    for x,y in enumerate(p):\n",
    "        patrones = np.random.choice([1, -1], size=[y,n])\n",
    "        w = np.zeros((n, n))\n",
    "        for p_i in range(y):\n",
    "            w += np.dot(patrones[p_i].reshape(-1,1),np.transpose(patrones[p_i].reshape(-1,1)))\n",
    "        np.fill_diagonal(w,0)\n",
    "        w /= n\n",
    "\n",
    "        j = 0\n",
    "        j_lim = 100\n",
    "        r_aux = np.copy(patrones)\n",
    "        while (j<j_lim):\n",
    "            reconstruido = np.sign(np.dot(r_aux,w))\n",
    "            reconstruido = np.where(reconstruido==0, 1, reconstruido)\n",
    "            if (reconstruido==r_aux).all():\n",
    "                print(\"La iteración {} convergió con {} iteraciones. \".format(x, j+1), end='')\n",
    "                break\n",
    "            else:\n",
    "                r_aux = np.copy(reconstruido)\n",
    "                j += 1\n",
    "\n",
    "        if j==j_lim:\n",
    "            print(\"La iteración {} no convergió. \".format(x), end='')\n",
    "\n",
    "        m[x, nn] = 0\n",
    "        for k in range(y):    \n",
    "            m[x, nn] += np.dot(patrones[k], reconstruido[k].T)\n",
    "        m[x, nn] = m[x, nn] / (n * y)\n",
    "        print(\"El <m> para {} patrones es {}.\".format(y, m[x, nn]))"
   ]
  },
  {
   "cell_type": "code",
   "execution_count": 4,
   "metadata": {},
   "outputs": [
    {
     "data": {
      "image/png": "[encoded data removed]",
      "text/plain": [
       "<Figure size 576x432 with 1 Axes>"
      ]
     },
     "metadata": {
      "needs_background": "light"
     },
     "output_type": "display_data"
    }
   ],
   "source": [
    "plt.figure(figsize=(8, 6))\n",
    "plt.plot(p/(N[0]), m[:, 0], color='red', label='N = 500')\n",
    "#plt.plot(p/(2 * N[1]), m[:, 1], color='green', label='N = 1000')\n",
    "#plt.plot(p/(1 * N[2]), m[:, 2], color='blue', label='N = 2000')\n",
    "plt.axvline(0.138)\n",
    "plt.xlim(0, 0.2)\n",
    "plt.ylim(0, 1.1)\n",
    "plt.xlabel('p/N')\n",
    "plt.ylabel('<m>')\n",
    "plt.legend()\n",
    "plt.title('Capacidad de almacenamiento del modelo de Hopfield')\n",
    "plt.show()"
   ]
  },
  {
   "cell_type": "code",
   "execution_count": null,
   "metadata": {},
   "outputs": [],
   "source": []
  }
 ],
 "metadata": {
  "kernelspec": {
   "display_name": "Python 3",
   "language": "python",
   "name": "python3"
  },
  "language_info": {
   "codemirror_mode": {
    "name": "ipython",
    "version": 3
   },
   "file_extension": ".py",
   "mimetype": "text/x-python",
   "name": "python",
   "nbconvert_exporter": "python",
   "pygments_lexer": "ipython3",
   "version": "3.8.5"
  }
 },
 "nbformat": 4,
 "nbformat_minor": 4
}
