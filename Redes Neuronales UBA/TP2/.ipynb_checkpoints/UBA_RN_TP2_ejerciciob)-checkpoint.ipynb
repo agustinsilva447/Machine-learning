{
 "cells": [
  {
   "cell_type": "code",
   "execution_count": 7,
   "metadata": {},
   "outputs": [],
   "source": [
    "import numpy as np\n",
    "import matplotlib.pyplot as plt"
   ]
  },
  {
   "cell_type": "code",
   "execution_count": 8,
   "metadata": {},
   "outputs": [],
   "source": [
    "X_2 = np.array([[1, -1, -1], \n",
    "                [1,  1, -1], \n",
    "                [1, -1,  1], \n",
    "                [1,  1,  1]])\n",
    "y_2 = np.array([[-1], \n",
    "                [ 1], \n",
    "                [ 1], \n",
    "                [-1]])\n",
    "\n",
    "X_4 = np.array([[1, -1, -1, -1, -1],\n",
    "                [1, -1, -1, -1,  1],\n",
    "                [1, -1, -1,  1, -1],\n",
    "                [1, -1, -1,  1,  1],\n",
    "                [1, -1,  1, -1, -1],\n",
    "                [1, -1,  1, -1,  1],\n",
    "                [1, -1,  1,  1, -1],\n",
    "                [1, -1,  1,  1,  1],              \n",
    "                [1,  1, -1, -1, -1],\n",
    "                [1,  1, -1, -1,  1],\n",
    "                [1,  1, -1,  1, -1],\n",
    "                [1,  1, -1,  1,  1],\n",
    "                [1,  1,  1, -1, -1],\n",
    "                [1,  1,  1, -1,  1],\n",
    "                [1,  1,  1,  1, -1],\n",
    "                [1,  1,  1,  1,  1]])\n",
    "y_4 = np.array([[-1], \n",
    "                [ 1], \n",
    "                [ 1], \n",
    "                [-1], \n",
    "                [ 1], \n",
    "                [-1], \n",
    "                [-1], \n",
    "                [ 1], \n",
    "                [ 1], \n",
    "                [-1], \n",
    "                [-1], \n",
    "                [ 1], \n",
    "                [-1], \n",
    "                [ 1], \n",
    "                [ 1], \n",
    "                [-1]])"
   ]
  },
  {
   "cell_type": "code",
   "execution_count": 9,
   "metadata": {},
   "outputs": [],
   "source": [
    "layers = [3, 3, 3, 1]\n",
    "lr = 0.01\n",
    "ep = 1000\n",
    "losses = []"
   ]
  },
  {
   "cell_type": "code",
   "execution_count": null,
   "metadata": {},
   "outputs": [],
   "source": []
  }
 ],
 "metadata": {
  "kernelspec": {
   "display_name": "Python 3",
   "language": "python",
   "name": "python3"
  },
  "language_info": {
   "codemirror_mode": {
    "name": "ipython",
    "version": 3
   },
   "file_extension": ".py",
   "mimetype": "text/x-python",
   "name": "python",
   "nbconvert_exporter": "python",
   "pygments_lexer": "ipython3",
   "version": "3.8.5"
  }
 },
 "nbformat": 4,
 "nbformat_minor": 4
}
