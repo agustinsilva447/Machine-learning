{
 "cells": [
  {
   "cell_type": "code",
   "execution_count": 54,
   "metadata": {},
   "outputs": [],
   "source": [
    "import numpy as np\n",
    "import matplotlib.pyplot as plt"
   ]
  },
  {
   "cell_type": "code",
   "execution_count": 259,
   "metadata": {},
   "outputs": [],
   "source": [
    "lr = 0.01\n",
    "N = 20\n",
    "p_tot = np.arange(5,80,5)\n",
    "it_max = 5000\n",
    "N_rep = 100\n",
    "C = []"
   ]
  },
  {
   "cell_type": "code",
   "execution_count": 260,
   "metadata": {},
   "outputs": [
    {
     "name": "stdout",
     "output_type": "stream",
     "text": [
      "5 neuronas, 0 iteraciones: Luego de 75 iteraciones el aprendizaje sí terminó\n",
      "5 neuronas, 50 iteraciones: Luego de 36 iteraciones el aprendizaje sí terminó\n",
      "[1.0]\n",
      "10 neuronas, 0 iteraciones: Luego de 105 iteraciones el aprendizaje sí terminó\n",
      "10 neuronas, 50 iteraciones: Luego de 118 iteraciones el aprendizaje sí terminó\n",
      "[1.0, 1.0]\n",
      "15 neuronas, 0 iteraciones: Luego de 233 iteraciones el aprendizaje sí terminó\n",
      "15 neuronas, 50 iteraciones: Luego de 287 iteraciones el aprendizaje sí terminó\n",
      "[1.0, 1.0, 1.0]\n",
      "20 neuronas, 0 iteraciones: Luego de 520 iteraciones el aprendizaje sí terminó\n",
      "20 neuronas, 50 iteraciones: Luego de 289 iteraciones el aprendizaje sí terminó\n",
      "[1.0, 1.0, 1.0, 1.0]\n",
      "25 neuronas, 0 iteraciones: Luego de 322 iteraciones el aprendizaje sí terminó\n",
      "25 neuronas, 50 iteraciones: Luego de 368 iteraciones el aprendizaje sí terminó\n",
      "[1.0, 1.0, 1.0, 1.0, 1.0]\n",
      "30 neuronas, 0 iteraciones: Luego de 1432 iteraciones el aprendizaje sí terminó\n",
      "30 neuronas, 50 iteraciones: Luego de 305 iteraciones el aprendizaje sí terminó\n",
      "[1.0, 1.0, 1.0, 1.0, 1.0, 0.83]\n",
      "35 neuronas, 0 iteraciones: Luego de 460 iteraciones el aprendizaje sí terminó\n",
      "35 neuronas, 50 iteraciones: Luego de 5000 iteraciones el aprendizaje no terminó\n",
      "[1.0, 1.0, 1.0, 1.0, 1.0, 0.83, 0.52]\n",
      "40 neuronas, 0 iteraciones: Luego de 5000 iteraciones el aprendizaje no terminó\n",
      "40 neuronas, 50 iteraciones: Luego de 5000 iteraciones el aprendizaje no terminó\n",
      "[1.0, 1.0, 1.0, 1.0, 1.0, 0.83, 0.52, 0.22]\n",
      "45 neuronas, 0 iteraciones: Luego de 5000 iteraciones el aprendizaje no terminó\n",
      "45 neuronas, 50 iteraciones: Luego de 5000 iteraciones el aprendizaje no terminó\n",
      "[1.0, 1.0, 1.0, 1.0, 1.0, 0.83, 0.52, 0.22, 0.06]\n",
      "50 neuronas, 0 iteraciones: Luego de 5000 iteraciones el aprendizaje no terminó\n",
      "50 neuronas, 50 iteraciones: Luego de 5000 iteraciones el aprendizaje no terminó\n",
      "[1.0, 1.0, 1.0, 1.0, 1.0, 0.83, 0.52, 0.22, 0.06, 0.02]\n",
      "55 neuronas, 0 iteraciones: Luego de 5000 iteraciones el aprendizaje no terminó\n",
      "55 neuronas, 50 iteraciones: Luego de 5000 iteraciones el aprendizaje no terminó\n",
      "[1.0, 1.0, 1.0, 1.0, 1.0, 0.83, 0.52, 0.22, 0.06, 0.02, 0.0]\n",
      "60 neuronas, 0 iteraciones: Luego de 5000 iteraciones el aprendizaje no terminó\n",
      "60 neuronas, 50 iteraciones: Luego de 5000 iteraciones el aprendizaje no terminó\n",
      "[1.0, 1.0, 1.0, 1.0, 1.0, 0.83, 0.52, 0.22, 0.06, 0.02, 0.0, 0.0]\n",
      "65 neuronas, 0 iteraciones: Luego de 5000 iteraciones el aprendizaje no terminó\n",
      "65 neuronas, 50 iteraciones: Luego de 5000 iteraciones el aprendizaje no terminó\n",
      "[1.0, 1.0, 1.0, 1.0, 1.0, 0.83, 0.52, 0.22, 0.06, 0.02, 0.0, 0.0, 0.0]\n",
      "70 neuronas, 0 iteraciones: Luego de 5000 iteraciones el aprendizaje no terminó\n",
      "70 neuronas, 50 iteraciones: Luego de 5000 iteraciones el aprendizaje no terminó\n",
      "[1.0, 1.0, 1.0, 1.0, 1.0, 0.83, 0.52, 0.22, 0.06, 0.02, 0.0, 0.0, 0.0, 0.0]\n",
      "75 neuronas, 0 iteraciones: Luego de 5000 iteraciones el aprendizaje no terminó\n",
      "75 neuronas, 50 iteraciones: Luego de 5000 iteraciones el aprendizaje no terminó\n",
      "[1.0, 1.0, 1.0, 1.0, 1.0, 0.83, 0.52, 0.22, 0.06, 0.02, 0.0, 0.0, 0.0, 0.0, 0.0]\n"
     ]
    }
   ],
   "source": [
    "for p in p_tot:\n",
    "    N_ap = 0\n",
    "    for j in range(N_rep):\n",
    "        X = np.random.choice([-1, 1], size = [p, N])\n",
    "        y = np.random.choice([-1, 1], size = [p, 1])\n",
    "        w = np.random.uniform(size = [y.shape[1], X.shape[1]])\n",
    "        E = []\n",
    "        it = 0\n",
    "        while (it<it_max):\n",
    "            it += 1\n",
    "            i = np.random.choice(X.shape[0])    \n",
    "            y0 = np.sign(np.dot(X, w.T))\n",
    "            y0 = np.where(y0==0, 1, y0)    \n",
    "            e = (1/2) * np.sum(np.power(y - y0, 2))\n",
    "            E.append(e)\n",
    "            if e == 0 :\n",
    "                N_ap += 1\n",
    "                break\n",
    "            dw = lr * X[i] * (y[i] - y0[i])\n",
    "            w = w + dw\n",
    "\n",
    "        if (j%50==0):\n",
    "            if it==it_max:\n",
    "                print(\"{} neuronas, {} iteraciones: Luego de {} iteraciones el aprendizaje no terminó\".format(p, j, it))\n",
    "            else:\n",
    "                print(\"{} neuronas, {} iteraciones: Luego de {} iteraciones el aprendizaje sí terminó\".format(p, j, it))\n",
    "    C.append(N_ap / N_rep)\n",
    "    print(C)"
   ]
  },
  {
   "cell_type": "code",
   "execution_count": 261,
   "metadata": {},
   "outputs": [
    {
     "data": {
      "image/png": "[encoded data removed]",
      "text/plain": [
       "<Figure size 432x288 with 1 Axes>"
      ]
     },
     "metadata": {
      "needs_background": "light"
     },
     "output_type": "display_data"
    }
   ],
   "source": [
    "plt.plot(p_tot,C)\n",
    "plt.\n",
    "plt.show()"
   ]
  },
  {
   "cell_type": "code",
   "execution_count": null,
   "metadata": {},
   "outputs": [],
   "source": []
  }
 ],
 "metadata": {
  "kernelspec": {
   "display_name": "Python 3",
   "language": "python",
   "name": "python3"
  },
  "language_info": {
   "codemirror_mode": {
    "name": "ipython",
    "version": 3
   },
   "file_extension": ".py",
   "mimetype": "text/x-python",
   "name": "python",
   "nbconvert_exporter": "python",
   "pygments_lexer": "ipython3",
   "version": "3.8.5"
  }
 },
 "nbformat": 4,
 "nbformat_minor": 4
}
