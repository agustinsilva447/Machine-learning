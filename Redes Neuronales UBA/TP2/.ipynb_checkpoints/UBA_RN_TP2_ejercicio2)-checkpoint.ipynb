{
 "cells": [
  {
   "cell_type": "code",
   "execution_count": 1,
   "metadata": {},
   "outputs": [],
   "source": [
    "import numpy as np\n",
    "import matplotlib.pyplot as plt"
   ]
  },
  {
   "cell_type": "code",
   "execution_count": 2,
   "metadata": {},
   "outputs": [],
   "source": [
    "def iniciar_parametros(layer_dims):\n",
    "    parameters = {}\n",
    "    L = len(layer_dims)\n",
    "\n",
    "    for l in range(1, L):\n",
    "        parameters['W' + str(l)] = np.random.randn(layer_dims[l], layer_dims[l-1]) / np.sqrt(layer_dims[l-1])\n",
    "        parameters['b' + str(l)] = np.zeros((layer_dims[l], 1))\n",
    "        \n",
    "    return parameters"
   ]
  },
  {
   "cell_type": "code",
   "execution_count": 3,
   "metadata": {},
   "outputs": [],
   "source": [
    "def actualizar_parametros(parameters, grads, learning_rate):\n",
    "    L = len(parameters) // 2 \n",
    "    for l in range(L):\n",
    "        parameters[\"W\" + str(l+1)] = parameters[\"W\" + str(l+1)] - learning_rate * grads[\"dW\" + str(l+1)]\n",
    "        parameters[\"b\" + str(l+1)] = parameters[\"b\" + str(l+1)] - learning_rate * grads[\"db\" + str(l+1)]\n",
    "        \n",
    "    return parameters"
   ]
  },
  {
   "cell_type": "code",
   "execution_count": 4,
   "metadata": {},
   "outputs": [],
   "source": [
    "def activacion_forward(A_prev, W, b, activation):\n",
    "    Z = W.dot(A_prev) + b\n",
    "    linear_cache = (A_prev, W, b)     \n",
    "    if activation == \"tanh\":\n",
    "        A = np.tanh(Z)\n",
    "        activation_cache = Z\n",
    "    cache = (linear_cache, activation_cache)\n",
    "    \n",
    "    return A, cache"
   ]
  },
  {
   "cell_type": "code",
   "execution_count": 5,
   "metadata": {},
   "outputs": [],
   "source": [
    "def red_forward(X, parameters):\n",
    "    caches = []\n",
    "    A = X\n",
    "    L = len(parameters) // 2\n",
    "    for l in range(1, L):\n",
    "        A_prev = A \n",
    "        A, cache = activacion_forward(A_prev, parameters['W' + str(l)], parameters['b' + str(l)], activation = \"tanh\")\n",
    "        caches.append(cache)\n",
    "    \n",
    "    AL, cache = activacion_forward(A, parameters['W' + str(L)], parameters['b' + str(L)], activation = \"tanh\")\n",
    "    caches.append(cache)\n",
    "    \n",
    "    return AL, caches"
   ]
  },
  {
   "cell_type": "code",
   "execution_count": 6,
   "metadata": {},
   "outputs": [],
   "source": [
    "def activacion_backward(dA, cache, activation):\n",
    "    linear_cache, activation_cache = cache    \n",
    "    if activation == \"tanh\":\n",
    "        dZ = dA * (1 - np.power(np.tanh(activation_cache),2))\n",
    "    A_prev, W, b = linear_cache\n",
    "    m = A_prev.shape[1]\n",
    "    dW = 1./m * np.dot(dZ,A_prev.T)\n",
    "    db = 1./m * np.sum(dZ, axis = 1, keepdims = True)\n",
    "    dA_prev = np.dot(W.T,dZ)\n",
    "    \n",
    "    return dA_prev, dW, db"
   ]
  },
  {
   "cell_type": "code",
   "execution_count": 7,
   "metadata": {},
   "outputs": [],
   "source": [
    "def red_backward(AL, Y, caches):\n",
    "    grads = {}\n",
    "    L = len(caches)\n",
    "    m = AL.shape[1]\n",
    "    Y = Y.reshape(AL.shape)\n",
    "    dAL = (AL - Y)\n",
    "    current_cache = caches[L-1]\n",
    "    grads[\"dA\" + str(L-1)], grads[\"dW\" + str(L)], grads[\"db\" + str(L)] = activacion_backward(dAL, current_cache, activation = \"tanh\")\n",
    "    \n",
    "    for l in reversed(range(L-1)):\n",
    "        current_cache = caches[l]\n",
    "        dA_prev_temp, dW_temp, db_temp = activacion_backward(grads[\"dA\" + str(l + 1)], current_cache, activation = \"tanh\")\n",
    "        grads[\"dA\" + str(l)] = dA_prev_temp\n",
    "        grads[\"dW\" + str(l + 1)] = dW_temp\n",
    "        grads[\"db\" + str(l + 1)] = db_temp\n",
    "\n",
    "    return grads"
   ]
  },
  {
   "cell_type": "code",
   "execution_count": 8,
   "metadata": {},
   "outputs": [],
   "source": [
    "def red(X, Y, layers_dims, learning_rate = 0.01, num_iterations = 1000, print_cost=False):\n",
    "    m = Y.shape[1]\n",
    "    costs = []\n",
    "    parameters = iniciar_parametros(layers_dims)\n",
    "    \n",
    "    for i in range(0, num_iterations):\n",
    "        AL, caches =  red_forward(X, parameters)\n",
    "        cost = (1/2) * np.sum(np.power(AL - Y, 2))\n",
    "        cost = np.squeeze(cost)    \n",
    "        costs.append(cost)    \n",
    "        grads = red_backward(AL, Y, caches)\n",
    "        parameters = actualizar_parametros(parameters, grads, learning_rate)\n",
    "        if print_cost and i % 100 == 0:\n",
    "            print (\"Cost after iteration %i: %f\" %(i, cost))\n",
    "\n",
    "    plt.plot(np.squeeze(costs))\n",
    "    plt.ylabel('cost')\n",
    "    plt.xlabel('iterations (por cien)')\n",
    "    plt.title(\"Learning rate =\" + str(learning_rate))\n",
    "    plt.show()\n",
    "    \n",
    "    return parameters"
   ]
  },
  {
   "cell_type": "code",
   "execution_count": 9,
   "metadata": {},
   "outputs": [
    {
     "name": "stdout",
     "output_type": "stream",
     "text": [
      "(4, 16)\n",
      "(1, 16)\n"
     ]
    }
   ],
   "source": [
    "input = 4\n",
    "\n",
    "if input==2:\n",
    "    train_x = np.array([[-1, -1], \n",
    "                        [ 1, -1], \n",
    "                        [-1,  1], \n",
    "                        [ 1,  1]]).T\n",
    "    train_y = np.array([[-1], \n",
    "                        [ 1], \n",
    "                        [ 1], \n",
    "                        [-1]]).T\n",
    "elif input==4:\n",
    "    train_x = np.array([[-1, -1, -1, -1],\n",
    "                        [-1, -1, -1,  1],\n",
    "                        [-1, -1,  1, -1],\n",
    "                        [-1, -1,  1,  1],\n",
    "                        [-1,  1, -1, -1],\n",
    "                        [-1,  1, -1,  1],\n",
    "                        [-1,  1,  1, -1],\n",
    "                        [-1,  1,  1,  1],              \n",
    "                        [ 1, -1, -1, -1],\n",
    "                        [ 1, -1, -1,  1],\n",
    "                        [ 1, -1,  1, -1],\n",
    "                        [ 1, -1,  1,  1],\n",
    "                        [ 1,  1, -1, -1],\n",
    "                        [ 1,  1, -1,  1],\n",
    "                        [ 1,  1,  1, -1],\n",
    "                        [ 1,  1,  1,  1]]).T\n",
    "\n",
    "    train_y = np.array([[-1], \n",
    "                        [ 1], \n",
    "                        [ 1], \n",
    "                        [-1], \n",
    "                        [ 1], \n",
    "                        [-1], \n",
    "                        [-1], \n",
    "                        [ 1], \n",
    "                        [ 1], \n",
    "                        [-1], \n",
    "                        [-1], \n",
    "                        [ 1], \n",
    "                        [-1], \n",
    "                        [ 1], \n",
    "                        [ 1], \n",
    "                        [-1]]).T\n",
    "\n",
    "\n",
    "print(train_x.shape)\n",
    "print(train_y.shape)"
   ]
  },
  {
   "cell_type": "code",
   "execution_count": 10,
   "metadata": {},
   "outputs": [
    {
     "name": "stdout",
     "output_type": "stream",
     "text": [
      "Cost after iteration 0: 9.539605\n",
      "Cost after iteration 100: 6.220237\n",
      "Cost after iteration 200: 1.836317\n",
      "Cost after iteration 300: 0.516150\n",
      "Cost after iteration 400: 0.238516\n",
      "Cost after iteration 500: 0.143384\n",
      "Cost after iteration 600: 0.098920\n",
      "Cost after iteration 700: 0.074057\n",
      "Cost after iteration 800: 0.058484\n",
      "Cost after iteration 900: 0.047942\n",
      "Cost after iteration 1000: 0.040395\n"
     ]
    },
    {
     "data": {
      "image/png": "[encoded data removed]",
      "text/plain": [
       "<Figure size 432x288 with 1 Axes>"
      ]
     },
     "metadata": {
      "needs_background": "light"
     },
     "output_type": "display_data"
    }
   ],
   "source": [
    "layers_dims = [train_x.shape[0], 100, 1]\n",
    "parameters = red(train_x, train_y, layers_dims, learning_rate = 0.1, num_iterations = 1001, print_cost = True)"
   ]
  },
  {
   "cell_type": "code",
   "execution_count": 11,
   "metadata": {},
   "outputs": [],
   "source": [
    "def predecir(X, y, parameters):\n",
    "    m = X.shape[1]\n",
    "    n = len(parameters) // 2 # number of layers in the neural network\n",
    "    p = np.zeros((1,m))\n",
    "    probas, caches = red_forward(X, parameters)\n",
    "    for i in range(0, probas.shape[1]):\n",
    "        if probas[0,i] > 0:\n",
    "            p[0,i] = 1\n",
    "        else:\n",
    "            p[0,i] = -1\n",
    "    print(\"predictions: \" + str(p))\n",
    "    print(\"true labels: \" + str(y))\n",
    "    print(\"Accuracy: \"  + str(np.sum((p == y)/m)))\n",
    "        \n",
    "    return p"
   ]
  },
  {
   "cell_type": "code",
   "execution_count": 12,
   "metadata": {},
   "outputs": [
    {
     "name": "stdout",
     "output_type": "stream",
     "text": [
      "predictions: [[-1.  1.  1. -1.  1. -1. -1.  1.  1. -1. -1.  1. -1.  1.  1. -1.]]\n",
      "true labels: [[-1  1  1 -1  1 -1 -1  1  1 -1 -1  1 -1  1  1 -1]]\n",
      "Accuracy: 1.0\n"
     ]
    }
   ],
   "source": [
    "pred_train = predecir(train_x, train_y, parameters)"
   ]
  },
  {
   "cell_type": "code",
   "execution_count": null,
   "metadata": {},
   "outputs": [],
   "source": []
  }
 ],
 "metadata": {
  "kernelspec": {
   "display_name": "Python 3",
   "language": "python",
   "name": "python3"
  },
  "language_info": {
   "codemirror_mode": {
    "name": "ipython",
    "version": 3
   },
   "file_extension": ".py",
   "mimetype": "text/x-python",
   "name": "python",
   "nbconvert_exporter": "python",
   "pygments_lexer": "ipython3",
   "version": "3.8.5"
  }
 },
 "nbformat": 4,
 "nbformat_minor": 4
}
