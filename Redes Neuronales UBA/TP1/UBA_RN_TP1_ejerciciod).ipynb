{
 "cells": [
  {
   "cell_type": "code",
   "execution_count": 1,
   "metadata": {},
   "outputs": [],
   "source": [
    "import numpy as np\n",
    "import random\n",
    "import matplotlib.pyplot as plt\n",
    "from tqdm import tqdm"
   ]
  },
  {
   "cell_type": "code",
   "execution_count": 40,
   "metadata": {},
   "outputs": [
    {
     "name": "stderr",
     "output_type": "stream",
     "text": [
      "100%|██████████| 625/625 [00:01<00:00, 539.82it/s]"
     ]
    },
    {
     "name": "stdout",
     "output_type": "stream",
     "text": [
      "[[0. 1. 0. ... 0. 0. 0.]\n",
      " [1. 0. 1. ... 0. 0. 0.]\n",
      " [0. 1. 0. ... 0. 0. 0.]\n",
      " ...\n",
      " [0. 0. 0. ... 0. 1. 0.]\n",
      " [0. 0. 0. ... 1. 0. 1.]\n",
      " [0. 0. 0. ... 0. 1. 0.]]\n"
     ]
    },
    {
     "name": "stderr",
     "output_type": "stream",
     "text": [
      "\n"
     ]
    }
   ],
   "source": [
    "neuronas = np.power(25,2) #debe ser potencia de 2\n",
    "neuronas_sqrt = np.sqrt(neuronas)\n",
    "cambios = 25 #por neuronas\n",
    "w = np.zeros([neuronas, neuronas])\n",
    "\n",
    "for i in tqdm(range(neuronas)):\n",
    "    for j in range(neuronas):\n",
    "        if (i == j-1 and (j%neuronas_sqrt != 0)) or (i == j+1 and (i%neuronas_sqrt != 0)) or (i == j-neuronas_sqrt) or (i == j+neuronas_sqrt):\n",
    "            w[i,j] = 1            \n",
    "print(w)"
   ]
  },
  {
   "cell_type": "code",
   "execution_count": 44,
   "metadata": {},
   "outputs": [
    {
     "name": "stderr",
     "output_type": "stream",
     "text": [
      "100%|██████████| 15625/15625 [00:20<00:00, 748.01it/s]\n"
     ]
    }
   ],
   "source": [
    "h_ext = 0\n",
    "k_boltzmann = 1\n",
    "T = np.arange(10, 0, -0.1)\n",
    "S = np.random.choice([1, -1], size=[1, neuronas])\n",
    "S_medio = np.zeros([cambios * neuronas])\n",
    "H = np.zeros([cambios * neuronas])\n",
    "x = range(cambios * neuronas)\n",
    "\n",
    "for k in tqdm(x):\n",
    "    # computo h\n",
    "    H[k] = -(1/2) * np.dot(S, np.dot(w, np.transpose(S))) - h_ext * np.sum(S)\n",
    "    \n",
    "    #elijo un subindice para crear un S auxiliar\n",
    "    i = np.random.choice(np.arange(neuronas))\n",
    "    S_aux = np.copy(S)\n",
    "    S_aux[0, i] *= -1\n",
    "    \n",
    "    #calculo una h auxiliar\n",
    "    H_aux = -(1/2) * np.dot(S_aux, np.dot(w, np.transpose(S_aux))) - h_ext * np.sum(S)\n",
    "    \n",
    "    #calculo la diferencia entre h y h_aux\n",
    "    dH = (H_aux - H[k])    \n",
    "    \n",
    "    #me quedo con el S auxiliar si la energía nueva es menor\n",
    "    if dH<0 :\n",
    "        S = S_aux\n",
    "        \n",
    "    #sino, me quedo con la S auxiliar con una cierta probabilidad\n",
    "    else :\n",
    "        prob = np.power(np.e, (-dH)/(k_boltzmann * 1))\n",
    "        if (random.random() < prob) :\n",
    "            S = S_aux    \n",
    "    \n",
    "    #calculo la media de S\n",
    "    S_medio[k] = np.mean(S)/neuronas"
   ]
  },
  {
   "cell_type": "code",
   "execution_count": 45,
   "metadata": {},
   "outputs": [
    {
     "data": {
      "image/png": "[encoded data removed]",
      "text/plain": [
       "<Figure size 864x288 with 2 Axes>"
      ]
     },
     "metadata": {
      "needs_background": "light"
     },
     "output_type": "display_data"
    }
   ],
   "source": [
    "fig = plt.figure(figsize = (12, 4))\n",
    "plt.subplot(1,2,1)\n",
    "plt.plot(x, H)\n",
    "plt.subplot(1,2,2)\n",
    "plt.plot(x, S_medio)\n",
    "plt.ylim(-1, 1)\n",
    "plt.show()"
   ]
  },
  {
   "cell_type": "code",
   "execution_count": null,
   "metadata": {},
   "outputs": [],
   "source": []
  }
 ],
 "metadata": {
  "kernelspec": {
   "display_name": "Python 3",
   "language": "python",
   "name": "python3"
  },
  "language_info": {
   "codemirror_mode": {
    "name": "ipython",
    "version": 3
   },
   "file_extension": ".py",
   "mimetype": "text/x-python",
   "name": "python",
   "nbconvert_exporter": "python",
   "pygments_lexer": "ipython3",
   "version": "3.8.2"
  }
 },
 "nbformat": 4,
 "nbformat_minor": 4
}
